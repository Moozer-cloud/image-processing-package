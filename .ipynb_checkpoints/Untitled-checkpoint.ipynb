{
 "cells": [
  {
   "cell_type": "code",
   "execution_count": 2,
   "id": "ed11db7d-f68c-44f3-a80b-0d37e1c4d570",
   "metadata": {},
   "outputs": [],
   "source": [
    "from image_processing.utils import io, plot\n",
    "from image_processing.processing import combination, transformation"
   ]
  },
  {
   "cell_type": "code",
   "execution_count": 3,
   "id": "a9a3a99d-eabd-494e-b964-7f6af91ce079",
   "metadata": {},
   "outputs": [
    {
     "ename": "SyntaxError",
     "evalue": "(unicode error) 'unicodeescape' codec can't decode bytes in position 2-3: truncated \\UXXXXXXXX escape (2942532737.py, line 1)",
     "output_type": "error",
     "traceback": [
      "\u001b[1;36m  Cell \u001b[1;32mIn[3], line 1\u001b[1;36m\u001b[0m\n\u001b[1;33m    image_01 = io.read_image(\"C:\\Users\\mooze\\OneDrive\\Documentos\\Estudos\\BootCamp\\Python Developer\\04- Programação Orientada a Objetos com Python\\Códigos\\image-processing-package\\Imagens\\1.jpg\")\u001b[0m\n\u001b[1;37m                             ^\u001b[0m\n\u001b[1;31mSyntaxError\u001b[0m\u001b[1;31m:\u001b[0m (unicode error) 'unicodeescape' codec can't decode bytes in position 2-3: truncated \\UXXXXXXXX escape\n"
     ]
    }
   ],
   "source": [
    "image_01 = io.read_image(\"C:\\Users\\mooze\\OneDrive\\Documentos\\Estudos\\BootCamp\\Python Developer\\04- Programação Orientada a Objetos com Python\\Códigos\\image-processing-package\\Imagens\\1.jpg\")\n",
    "image_02 = io.read_image(\"C:\\Users\\mooze\\OneDrive\\Documentos\\Estudos\\BootCamp\\Python Developer\\04- Programação Orientada a Objetos com Python\\Códigos\\image-processing-package\\Imagens\\2.jpg\")"
   ]
  },
  {
   "cell_type": "code",
   "execution_count": null,
   "id": "1efc250d-9167-49d2-9d87-e8a4dadce133",
   "metadata": {},
   "outputs": [],
   "source": [
    "plot.plot_imagem(image_01)\n",
    "plot.plot_imagem(image_02)"
   ]
  },
  {
   "cell_type": "code",
   "execution_count": null,
   "id": "a5d10f55-4841-4c69-b2c5-a09d26fae924",
   "metadata": {},
   "outputs": [],
   "source": [
    "result_image = combination.transfer_histogram(image_01, imagem_02)\n",
    "plot.plot_result(image_01, imagem_02, result_image)"
   ]
  }
 ],
 "metadata": {
  "kernelspec": {
   "display_name": "Python 3 (ipykernel)",
   "language": "python",
   "name": "python3"
  },
  "language_info": {
   "codemirror_mode": {
    "name": "ipython",
    "version": 3
   },
   "file_extension": ".py",
   "mimetype": "text/x-python",
   "name": "python",
   "nbconvert_exporter": "python",
   "pygments_lexer": "ipython3",
   "version": "3.12.7"
  }
 },
 "nbformat": 4,
 "nbformat_minor": 5
}
